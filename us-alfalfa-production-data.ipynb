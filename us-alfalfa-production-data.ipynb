{
 "cells": [
  {
   "cell_type": "markdown",
   "metadata": {
    "collapsed": false
   },
   "source": [
    "# Using Agate to resolve all\n",
    "those lingering questions about Central Wyoming hay production data\n",
    "I'm in Wyoming for a weeklong vacation at the folks' place, and the question came up: Is Fremont County ~really~ in the top 50 U.S. counties for alfalfa hay production? We can use [`Agate`](http://agate.readthedocs.io) to analyze [USDA/NASS data](https://nass.usda.gov) to find out for sure.\n",
    "\n",
    "First, we download a CSV with [this cut of data](https://quickstats.nass.usda.gov/results/39B79FD0-B6CD-3739-8274-9828B86B6637) -- county-level alfalfa hay production tonnage figures from the government's quinquennial agriculture census -- and save it as `hay.csv`. I found this approach easier than using [the agency's API](https://quickstats.nass.usda.gov/api), but YMMV."
   ]
  },
  {
   "cell_type": "code",
   "execution_count": 211,
   "metadata": {
    "collapsed": false
   },
   "outputs": [
    {
     "name": "stdout",
     "output_type": "stream",
     "text": [
      "\"Program\",\"Year\",\"Period\",\"Week Ending\",\"Geo Level\",\"State\",\"State ANSI\",\"Ag District\",\"Ag District Code\",\"County\",\"County ANSI\",\"Zip Code\",\"Region\",\"watershed_code\",\"Watershed\",\"Commodity\",\"Data Item\",\"Domain\",\"Domain Category\",\"Value\",\"CV (%)\"\n",
      "\"CENSUS\",\"2012\",\"YEAR\",\"\",\"COUNTY\",\"ALABAMA\",\"01\",\"BLACK BELT\",\"40\",\"AUTAUGA\",\"001\",\"\",\"\",\"00000000\",\"\",\"HAY\",\"HAY, ALFALFA - PRODUCTION, MEASURED IN TONS\",\"TOTAL\",\"NOT SPECIFIED\",\"300\",\"57.2\"\n",
      "\"CENSUS\",\"2012\",\"YEAR\",\"\",\"COUNTY\",\"ALABAMA\",\"01\",\"BLACK BELT\",\"40\",\"DALLAS\",\"047\",\"\",\"\",\"00000000\",\"\",\"HAY\",\"HAY, ALFALFA - PRODUCTION, MEASURED IN TONS\",\"TOTAL\",\"NOT SPECIFIED\",\"144\",\"57.2\"\n",
      "\"CENSUS\",\"2012\",\"YEAR\",\"\",\"COUNTY\",\"ALABAMA\",\"01\",\"BLACK BELT\",\"40\",\"ELMORE\",\"051\",\"\",\"\",\"00000000\",\"\",\"HAY\",\"HAY, ALFALFA - PRODUCTION, MEASURED IN TONS\",\"TOTAL\",\"NOT SPECIFIED\",\" (D)\",\"(D)\"\n",
      "\"CENSUS\",\"2012\",\"YEAR\",\"\",\"COUNTY\",\"ALABAMA\",\"01\",\"BLACK BELT\",\"40\",\"GREENE\",\"063\",\"\",\"\",\"00000000\",\"\",\"HAY\",\"HAY, ALFALFA - PRODUCTION, MEASURED IN TONS\",\"TOTAL\",\"NOT SPECIFIED\",\" (D)\",\"(D)\"\n",
      "\"CENSUS\",\"2012\",\"YEAR\",\"\",\"COUNTY\",\"ALABAMA\",\"01\",\"BLACK BELT\",\"40\",\"HALE\",\"065\",\"\",\"\",\"00000000\",\"\",\"HAY\",\"HAY, ALFALFA - PRODUCTION, MEASURED IN TONS\",\"TOTAL\",\"NOT SPECIFIED\",\"74\",\"57.2\"\n",
      "\"CENSUS\",\"2012\",\"YEAR\",\"\",\"COUNTY\",\"ALABAMA\",\"01\",\"BLACK BELT\",\"40\",\"LOWNDES\",\"085\",\"\",\"\",\"00000000\",\"\",\"HAY\",\"HAY, ALFALFA - PRODUCTION, MEASURED IN TONS\",\"TOTAL\",\"NOT SPECIFIED\",\"440\",\"57.2\"\n",
      "\"CENSUS\",\"2012\",\"YEAR\",\"\",\"COUNTY\",\"ALABAMA\",\"01\",\"BLACK BELT\",\"40\",\"MACON\",\"087\",\"\",\"\",\"00000000\",\"\",\"HAY\",\"HAY, ALFALFA - PRODUCTION, MEASURED IN TONS\",\"TOTAL\",\"NOT SPECIFIED\",\" (D)\",\"(D)\"\n",
      "\"CENSUS\",\"2012\",\"YEAR\",\"\",\"COUNTY\",\"ALABAMA\",\"01\",\"BLACK BELT\",\"40\",\"MARENGO\",\"091\",\"\",\"\",\"00000000\",\"\",\"HAY\",\"HAY, ALFALFA - PRODUCTION, MEASURED IN TONS\",\"TOTAL\",\"NOT SPECIFIED\",\"70\",\"57.2\"\n",
      "\"CENSUS\",\"2012\",\"YEAR\",\"\",\"COUNTY\",\"ALABAMA\",\"01\",\"BLACK BELT\",\"40\",\"MONTGOMERY\",\"101\",\"\",\"\",\"00000000\",\"\",\"HAY\",\"HAY, ALFALFA - PRODUCTION, MEASURED IN TONS\",\"TOTAL\",\"NOT SPECIFIED\",\"44\",\"57.2\"\n"
     ]
    }
   ],
   "source": [
    "%%bash\n",
    "head hay.csv"
   ]
  },
  {
   "cell_type": "markdown",
   "metadata": {},
   "source": [
    "### Extract only the columns we care about"
   ]
  },
  {
   "cell_type": "code",
   "execution_count": 212,
   "metadata": {
    "collapsed": false
   },
   "outputs": [
    {
     "name": "stdout",
     "output_type": "stream",
     "text": [
      "Year,State ANSI,County ANSI,State,County,Value\n",
      "2012,01,001,ALABAMA,AUTAUGA,300\n",
      "2012,01,047,ALABAMA,DALLAS,144\n",
      "2012,01,051,ALABAMA,ELMORE, (D)\n",
      "2012,01,063,ALABAMA,GREENE, (D)\n",
      "2012,01,065,ALABAMA,HALE,74\n",
      "2012,01,085,ALABAMA,LOWNDES,440\n",
      "2012,01,087,ALABAMA,MACON, (D)\n",
      "2012,01,091,ALABAMA,MARENGO,70\n",
      "2012,01,101,ALABAMA,MONTGOMERY,44\n"
     ]
    }
   ],
   "source": [
    "%%bash\n",
    "csvcut -c 2,7,11,6,10,20 hay.csv > hay-cut.csv\n",
    "head hay-cut.csv"
   ]
  },
  {
   "cell_type": "markdown",
   "metadata": {},
   "source": [
    "### Fire up Agate"
   ]
  },
  {
   "cell_type": "code",
   "execution_count": 213,
   "metadata": {
    "collapsed": true
   },
   "outputs": [],
   "source": [
    "from collections import OrderedDict\n",
    "import agate"
   ]
  },
  {
   "cell_type": "code",
   "execution_count": 214,
   "metadata": {
    "collapsed": true
   },
   "outputs": [],
   "source": [
    "# USDA ag censuses\n",
    "CENSUS_YEARS = ['1997', '2002', '2007', '2012']\n",
    "\n",
    "# define the column types\n",
    "col_types = {\n",
    "    'Year': agate.Text(),\n",
    "    'State ANSI': agate.Text(),\n",
    "    'County ANSI': agate.Text(),\n",
    "    'State': agate.Text(),\n",
    "    'County': agate.Text(),\n",
    "    'Value': agate.Text()\n",
    "}"
   ]
  },
  {
   "cell_type": "code",
   "execution_count": 215,
   "metadata": {
    "collapsed": false
   },
   "outputs": [],
   "source": [
    "# load the csv into an agate table\n",
    "alfalfa_production = agate.Table.from_csv('hay-cut.csv', column_types = col_types)"
   ]
  },
  {
   "cell_type": "code",
   "execution_count": 216,
   "metadata": {
    "collapsed": false
   },
   "outputs": [
    {
     "name": "stdout",
     "output_type": "stream",
     "text": [
      "|-------+------------+-------------+---------+------------+--------|\n",
      "|  Year | State ANSI | County ANSI | State   | County     | Value  |\n",
      "|-------+------------+-------------+---------+------------+--------|\n",
      "|  2012 | 01         | 001         | ALABAMA | AUTAUGA    | 300    |\n",
      "|  2012 | 01         | 047         | ALABAMA | DALLAS     | 144    |\n",
      "|  2012 | 01         | 051         | ALABAMA | ELMORE     | (D)    |\n",
      "|  2012 | 01         | 063         | ALABAMA | GREENE     | (D)    |\n",
      "|  2012 | 01         | 065         | ALABAMA | HALE       | 74     |\n",
      "|  2012 | 01         | 085         | ALABAMA | LOWNDES    | 440    |\n",
      "|  2012 | 01         | 087         | ALABAMA | MACON      | (D)    |\n",
      "|  2012 | 01         | 091         | ALABAMA | MARENGO    | 70     |\n",
      "|  2012 | 01         | 101         | ALABAMA | MONTGOMERY | 44     |\n",
      "|  2012 | 01         | 105         | ALABAMA | PERRY      | 27     |\n",
      "|  2012 | 01         | 119         | ALABAMA | SUMTER     | 178    |\n",
      "|  2012 | 01         | 003         | ALABAMA | BALDWIN    | (D)    |\n",
      "|  2012 | 01         | 035         | ALABAMA | CONECUH    | (D)    |\n",
      "|  2012 | 01         | 053         | ALABAMA | ESCAMBIA   | 58     |\n",
      "|  2012 | 01         | 097         | ALABAMA | MOBILE     | 16     |\n",
      "|  2012 | 01         | 099         | ALABAMA | MONROE     | 102    |\n",
      "|  2012 | 01         | 129         | ALABAMA | WASHINGTON | 260    |\n",
      "|  2012 | 01         | 131         | ALABAMA | WILCOX     | 34     |\n",
      "|  2012 | 01         | 009         | ALABAMA | BLOUNT     | 220    |\n",
      "|  2012 | 01         | 019         | ALABAMA | CHEROKEE   | 110    |\n",
      "|  ...  | ...        | ...         | ...     | ...        | ...    |\n",
      "|-------+------------+-------------+---------+------------+--------|\n"
     ]
    }
   ],
   "source": [
    "alfalfa_production.print_table()"
   ]
  },
  {
   "cell_type": "markdown",
   "metadata": {},
   "source": [
    "### Remove null values and recast the 'Value' column as a number\n",
    "Values for counties with zero alfalfa production == \" (D)\"."
   ]
  },
  {
   "cell_type": "code",
   "execution_count": 217,
   "metadata": {
    "collapsed": false
   },
   "outputs": [],
   "source": [
    "alfalfa_production_no_nulls_sorted = alfalfa_production.where(\n",
    "    lambda row: row['Value'].strip() != '(D)'\n",
    ").compute([\n",
    "    ('value_as_int', agate.Formula(agate.Number(), lambda row: int(row['Value'].replace(',', ''))))\n",
    "]).exclude('Value').order_by('value_as_int', reverse=True)"
   ]
  },
  {
   "cell_type": "code",
   "execution_count": 218,
   "metadata": {
    "collapsed": false,
    "scrolled": false
   },
   "outputs": [
    {
     "name": "stdout",
     "output_type": "stream",
     "text": [
      "|-------+------------+-------------+------------+-----------+---------------|\n",
      "|  Year | State ANSI | County ANSI | State      | County    | value_as_int  |\n",
      "|-------+------------+-------------+------------+-----------+---------------|\n",
      "|  2002 | 06         | 025         | CALIFORNIA | IMPERIAL  |    1,586,024  |\n",
      "|  2012 | 06         | 025         | CALIFORNIA | IMPERIAL  |    1,173,325  |\n",
      "|  1997 | 06         | 025         | CALIFORNIA | IMPERIAL  |    1,021,810  |\n",
      "|  2007 | 06         | 025         | CALIFORNIA | IMPERIAL  |      976,999  |\n",
      "|  2002 | 53         | 025         | WASHINGTON | GRANT     |      898,626  |\n",
      "|  2002 | 06         | 029         | CALIFORNIA | KERN      |      803,933  |\n",
      "|  2007 | 53         | 025         | WASHINGTON | GRANT     |      752,332  |\n",
      "|  2002 | 06         | 107         | CALIFORNIA | TULARE    |      718,581  |\n",
      "|  1997 | 06         | 029         | CALIFORNIA | KERN      |      714,922  |\n",
      "|  1997 | 53         | 025         | WASHINGTON | GRANT     |      707,049  |\n",
      "|  2007 | 06         | 029         | CALIFORNIA | KERN      |      704,029  |\n",
      "|  2002 | 53         | 021         | WASHINGTON | FRANKLIN  |      657,868  |\n",
      "|  2007 | 06         | 107         | CALIFORNIA | TULARE    |      624,055  |\n",
      "|  2007 | 06         | 047         | CALIFORNIA | MERCED    |      622,298  |\n",
      "|  2007 | 04         | 013         | ARIZONA    | MARICOPA  |      612,404  |\n",
      "|  2002 | 06         | 047         | CALIFORNIA | MERCED    |      609,934  |\n",
      "|  2002 | 04         | 013         | ARIZONA    | MARICOPA  |      597,149  |\n",
      "|  2007 | 53         | 021         | WASHINGTON | FRANKLIN  |      573,937  |\n",
      "|  1997 | 06         | 065         | CALIFORNIA | RIVERSIDE |      557,236  |\n",
      "|  2012 | 53         | 025         | WASHINGTON | GRANT     |      556,725  |\n",
      "|  ...  | ...        | ...         | ...        | ...       |          ...  |\n",
      "|-------+------------+-------------+------------+-----------+---------------|\n"
     ]
    }
   ],
   "source": [
    "alfalfa_production_no_nulls_sorted.print_table()"
   ]
  },
  {
   "cell_type": "markdown",
   "metadata": {},
   "source": [
    "### Create tables for each year of data"
   ]
  },
  {
   "cell_type": "code",
   "execution_count": 219,
   "metadata": {
    "collapsed": false
   },
   "outputs": [],
   "source": [
    "data_by_year = {}\n",
    "\n",
    "def get_rank_by_year(year):\n",
    "    return alfalfa_production_no_nulls_sorted.where(\n",
    "        lambda row: row['Year'] == year\n",
    "    ).compute([\n",
    "        ('rank', agate.Rank('value_as_int', reverse=True))\n",
    "    ])\n",
    "\n",
    "for year in CENSUS_YEARS:\n",
    "    data_by_year[year] = get_rank_by_year(year)\n",
    "    \n",
    "data_by_year = OrderedDict(sorted(data_by_year.items(), key=lambda t: int(t[0])))"
   ]
  },
  {
   "cell_type": "markdown",
   "metadata": {},
   "source": [
    "#### Get Fremont County data for each year"
   ]
  },
  {
   "cell_type": "code",
   "execution_count": 220,
   "metadata": {
    "collapsed": false
   },
   "outputs": [
    {
     "name": "stdout",
     "output_type": "stream",
     "text": [
      "1997 / 219,046 tons / ranked 29 out of 2,319 producing counties\n",
      "2002 / 184,041 tons / ranked 47 out of 2,319 producing counties\n",
      "2007 / 275,524 tons / ranked 22 out of 2,319 producing counties\n",
      "2012 / 278,957 tons / ranked 17 out of 2,319 producing counties\n"
     ]
    }
   ],
   "source": [
    "for year in data_by_year:\n",
    "    fc_data = data_by_year[year].where(\n",
    "        lambda row: row['County ANSI'] == '013' and row['State ANSI'] == '56'\n",
    "    )\n",
    "    print(\n",
    "        year,\n",
    "        \"/\",\n",
    "        '{0:,}'.format(fc_data.rows[0]['value_as_int']),\n",
    "        \"tons / ranked\",\n",
    "        fc_data.rows[0]['rank'],\n",
    "        \"out of\",\n",
    "        '{0:,}'.format(len(data_by_year[data].rows)),\n",
    "        \"producing counties\"\n",
    "    )"
   ]
  },
  {
   "cell_type": "markdown",
   "metadata": {},
   "source": [
    "# ~~ Verdict: True ~~"
   ]
  },
  {
   "cell_type": "code",
   "execution_count": null,
   "metadata": {
    "collapsed": true
   },
   "outputs": [],
   "source": []
  }
 ],
 "metadata": {
  "kernelspec": {
   "display_name": "Python 3",
   "language": "python",
   "name": "python3"
  },
  "language_info": {
   "codemirror_mode": {
    "name": "ipython",
    "version": 3
   },
   "file_extension": ".py",
   "mimetype": "text/x-python",
   "name": "python",
   "nbconvert_exporter": "python",
   "pygments_lexer": "ipython3",
   "version": "3.5.1"
  }
 },
 "nbformat": 4,
 "nbformat_minor": 0
}
